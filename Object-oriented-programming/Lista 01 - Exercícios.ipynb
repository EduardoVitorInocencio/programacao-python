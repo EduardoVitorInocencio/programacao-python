{
 "cells": [
  {
   "cell_type": "markdown",
   "metadata": {},
   "source": [
    " ### Exercício 01\n",
    " \n",
    " Escreva um programa Python para criar uma classe representando um Círculo. Inclui métodos para calcular sua área e perímetro."
   ]
  },
  {
   "cell_type": "code",
   "execution_count": 24,
   "metadata": {},
   "outputs": [
    {
     "name": "stdout",
     "output_type": "stream",
     "text": [
      "O raio do círculo é de 10.0 mm, sua área é 314.16 mm² e seu perímetro é 62.83 mm.\n"
     ]
    }
   ],
   "source": [
    "class Circle:\n",
    "    import math \n",
    "\n",
    "    def __init__(self, radius):\n",
    "        self.radius = radius\n",
    "    \n",
    "    def areaC(self):\n",
    "        area = math.pi * self.radius ** 2\n",
    "        return area\n",
    "    \n",
    "    def perimeterC(self):\n",
    "        perimeter = math.pi * 2 * self.radius\n",
    "        return perimeter\n",
    "    \n",
    "# Exemplo de uso da classe Circle\n",
    "radius = float(input('Digite o valor do raio'))\n",
    "circle = Circle(radius)\n",
    "area = round(circle.areaC(),2)\n",
    "perimeter = round(circle.perimeterC(),2)\n",
    "\n",
    "print(f'O raio do círculo é de {radius} mm, sua área é {area} mm² e seu perímetro é {perimeter} mm.')"
   ]
  },
  {
   "cell_type": "markdown",
   "metadata": {},
   "source": [
    "### Exercício 02:\n",
    "\n",
    "Escreva um programa Python para criar uma classe pessoal. Inclua atributos como nome, país e data de nascimento. Implemente um método para determinar a idade da pessoa."
   ]
  },
  {
   "cell_type": "code",
   "execution_count": 41,
   "metadata": {},
   "outputs": [
    {
     "name": "stdout",
     "output_type": "stream",
     "text": [
      "Nome do usuário: Jorge\n",
      "Idade: 29\n",
      "Data de nascimento: 1994-03-16\n",
      "País de Origem: Brasil\n"
     ]
    }
   ],
   "source": [
    "from datetime import date\n",
    "#hahahahah cannabis\n",
    "\n",
    "class Personal:\n",
    "\n",
    "    def __init__(self, name, country, birthDate):\n",
    "        self.name = name\n",
    "        self.country = country\n",
    "        self.birthDate = birthDate\n",
    "\n",
    "    def calculateAge (self):\n",
    "        today = date.today()\n",
    "        age = today.year - self.birthDate.year\n",
    "\n",
    "        return age\n",
    "\n",
    "# Exemplo de uso da classe\n",
    "\n",
    "person1 = Personal('Jorge','Brasil', date(1994,3,16)) \n",
    "\n",
    "print('Nome do usuário:', person1.name)\n",
    "print('Idade:', person1.calculateAge())\n",
    "print('Data de nascimento:', person1.birthDate)\n",
    "print('País de Origem:', person1.country)\n"
   ]
  },
  {
   "cell_type": "markdown",
   "metadata": {},
   "source": [
    "### Exercício 03\n",
    "\n",
    "Escreva um programa Python para criar uma classe de calculadora. Inclui métodos para operações aritméticas básicas."
   ]
  },
  {
   "cell_type": "code",
   "execution_count": null,
   "metadata": {},
   "outputs": [],
   "source": [
    "class Calculator:\n",
    "    def add(self, x, y):\n",
    "        result = x + y\n",
    "        return result\n",
    "    \n",
    "    def subtract(self, x, y):\n",
    "        result = x - y\n",
    "        return result\n",
    "    \n",
    "    def multiply(self, x, y):\n",
    "        result = x * y\n",
    "        return result\n",
    "    \n",
    "    def divide (self, x, y):\n",
    "        result = x / y\n",
    "        return result\n",
    "    \n",
    "# Exemplo de uso\n"
   ]
  }
 ],
 "metadata": {
  "kernelspec": {
   "display_name": "Python 3",
   "language": "python",
   "name": "python3"
  },
  "language_info": {
   "codemirror_mode": {
    "name": "ipython",
    "version": 3
   },
   "file_extension": ".py",
   "mimetype": "text/x-python",
   "name": "python",
   "nbconvert_exporter": "python",
   "pygments_lexer": "ipython3",
   "version": "3.11.6"
  }
 },
 "nbformat": 4,
 "nbformat_minor": 2
}
