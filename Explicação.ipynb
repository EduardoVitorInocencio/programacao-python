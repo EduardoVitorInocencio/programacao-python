{
 "cells": [
  {
   "cell_type": "markdown",
   "metadata": {},
   "source": [
    "### Classes e objetos em Python\n",
    "\n",
    "Python é uma linguagem de programação orientada a objetos.\n",
    "\n",
    "Quase tudo em Python é um objeto, com suas propriedades e métodos.\n",
    "\n",
    "Uma classe é como um construtor de objetos ou um “modelo” para criar objetos.\n",
    "\n",
    "### Criando uma classe\n",
    "\n",
    "Para criar uma classe, utilize a palavra-chave CLASS.\n",
    "\n",
    "### Exemplo:\n",
    "\n",
    "Crie uma classe chamada MyClass, com uma propriedade chamada x:"
   ]
  },
  {
   "cell_type": "code",
   "execution_count": 1,
   "metadata": {},
   "outputs": [],
   "source": [
    "class MyClass:\n",
    "    x = 5"
   ]
  },
  {
   "cell_type": "markdown",
   "metadata": {},
   "source": [
    "### Criar objeto\n",
    "\n",
    "Agora podemos usar a classe chamada MyClass para criar objetos:"
   ]
  },
  {
   "cell_type": "code",
   "execution_count": 2,
   "metadata": {},
   "outputs": [
    {
     "name": "stdout",
     "output_type": "stream",
     "text": [
      "5\n"
     ]
    }
   ],
   "source": [
    "p1 = MyClass()\n",
    "print(p1.x)"
   ]
  },
  {
   "cell_type": "markdown",
   "metadata": {},
   "source": [
    "### A função __init__()\n",
    "\n",
    "Os exemplos acima são classes e objetos em sua forma mais simples e não são realmente úteis em aplicações da vida real.\n",
    "\n",
    "Para entender o significado das classes, temos que entender a função integrada __init__().\n",
    "\n",
    "Todas as classes possuem uma função chamada __init__(), que é sempre executada quando a classe está sendo iniciada.\n",
    "\n",
    "Use a função __init__() para atribuir valores às propriedades do objeto ou outras operações que sejam necessárias quando o objeto estiver sendo criado:\n",
    "\n",
    "### Exemplo:\n",
    "\n",
    "Crie uma classe chamada Person, use a função __init__() para atribuir valores para nome e idade:"
   ]
  },
  {
   "cell_type": "code",
   "execution_count": 3,
   "metadata": {},
   "outputs": [
    {
     "name": "stdout",
     "output_type": "stream",
     "text": [
      "John\n",
      "36\n"
     ]
    }
   ],
   "source": [
    "class person:\n",
    "    def __init__(self, name, age):\n",
    "        self.name = name\n",
    "        self.age = age\n",
    "\n",
    "p1 = person(\"John\", 36)\n",
    "\n",
    "print(p1.name)\n",
    "print(p1.age)"
   ]
  },
  {
   "cell_type": "markdown",
   "metadata": {},
   "source": [
    "### Nota: \n",
    "\n",
    "A __init__()função é chamada automaticamente sempre que a classe está sendo usada para criar um novo objeto.\n",
    "\n",
    "### Exemplo\n",
    "\n",
    "A representação de string de um objeto SEM a função __str__():"
   ]
  },
  {
   "cell_type": "code",
   "execution_count": 4,
   "metadata": {},
   "outputs": [
    {
     "name": "stdout",
     "output_type": "stream",
     "text": [
      "<__main__.Person object at 0x000001BEEE8C4F90>\n"
     ]
    }
   ],
   "source": [
    "class Person:\n",
    "  def __init__(self, name, age):\n",
    "    self.name = name\n",
    "    self.age = age\n",
    "\n",
    "p1 = Person(\"John\", 36)\n",
    "\n",
    "print(p1)"
   ]
  },
  {
   "cell_type": "markdown",
   "metadata": {},
   "source": [
    "### Exemplo\n",
    "\n",
    "A representação de string de um objeto COM a função __str__():"
   ]
  },
  {
   "cell_type": "code",
   "execution_count": 3,
   "metadata": {},
   "outputs": [
    {
     "name": "stdout",
     "output_type": "stream",
     "text": [
      "John [36]\n"
     ]
    }
   ],
   "source": [
    "class Person:\n",
    "  def __init__(self, name, age):\n",
    "    self.name = name\n",
    "    self.age = age\n",
    "\n",
    "  def __str__(self):\n",
    "    return f\"{self.name} [{self.age}]\"\n",
    "\n",
    "p1 = Person(\"John\", 36)\n",
    "\n",
    "print(p1)"
   ]
  },
  {
   "cell_type": "markdown",
   "metadata": {},
   "source": [
    "### Métodos de objeto\n",
    "\n",
    "Objetos também podem conter métodos. Métodos em objetos são funções que pertencem ao objeto.\n",
    "\n",
    "Vamos criar um método na classe Person:\n",
    "\n",
    "### Exemplo\n",
    "\n",
    "Insira uma função que imprima uma saudação e execute-a no objeto p1:"
   ]
  },
  {
   "cell_type": "code",
   "execution_count": 7,
   "metadata": {},
   "outputs": [
    {
     "name": "stdout",
     "output_type": "stream",
     "text": [
      "Hello my name is John\n",
      "I'm  36 years old.\n"
     ]
    }
   ],
   "source": [
    "class Person:\n",
    "  def __init__(self, name, age):\n",
    "    self.name = name\n",
    "    self.age = age\n",
    "\n",
    "  def myfunc(self):\n",
    "    print(\"Hello my name is \" + self.name)\n",
    "    print(\"I'm \", self.age, \"years old.\")\n",
    "\n",
    "p1 = Person(\"John\", 36)\n",
    "p1.myfunc()"
   ]
  },
  {
   "cell_type": "markdown",
   "metadata": {},
   "source": [
    "### Nota: \n",
    "\n",
    "O parâmetro self é uma referência à instância atual da classe e é usado para acessar variáveis ​​que pertencem à classe.\n",
    "\n",
    "\n",
    "### O parâmetro self\n",
    "\n",
    "O selfparâmetro é uma referência à instância atual da classe e é usado para acessar variáveis ​​que pertencem à classe.\n",
    "\n",
    "Não precisa ter nome self, você pode chamá-lo como quiser, mas tem que ser o primeiro parâmetro de qualquer função da classe:"
   ]
  },
  {
   "cell_type": "code",
   "execution_count": 9,
   "metadata": {},
   "outputs": [
    {
     "name": "stdout",
     "output_type": "stream",
     "text": [
      "Hello my name is John\n"
     ]
    }
   ],
   "source": [
    "# Você pode usar as palavras mysillyobject e abc em vez de self :\n",
    "\n",
    "class Person:\n",
    "  def __init__(mysillyobject, name, age):\n",
    "    mysillyobject.name = name\n",
    "    mysillyobject.age = age\n",
    "\n",
    "  def myfunc(abc):\n",
    "    print(\"Hello my name is \" + abc.name)\n",
    "\n",
    "p1 = Person(\"John\", 36)\n",
    "p1.myfunc()"
   ]
  },
  {
   "cell_type": "markdown",
   "metadata": {},
   "source": [
    "### Modificar propriedades do objeto\n",
    "\n",
    "Você pode modificar propriedades em objetos como este.\n",
    "\n",
    "### Exemplo\n",
    "\n",
    "Defina a idade de p1 para 40:"
   ]
  },
  {
   "cell_type": "code",
   "execution_count": 11,
   "metadata": {},
   "outputs": [
    {
     "data": {
      "text/plain": [
       "40"
      ]
     },
     "execution_count": 11,
     "metadata": {},
     "output_type": "execute_result"
    }
   ],
   "source": [
    "p1.age = 40"
   ]
  },
  {
   "cell_type": "markdown",
   "metadata": {},
   "source": [
    "### Excluir propriedades do objeto\n",
    "\n",
    "Você pode excluir propriedades de objetos usando a palavra-chave del.\n",
    "\n",
    "### Exemplo\n",
    "\n",
    "Exclua a propriedade age do objeto p1:"
   ]
  },
  {
   "cell_type": "code",
   "execution_count": 12,
   "metadata": {},
   "outputs": [],
   "source": [
    "del p1"
   ]
  },
  {
   "cell_type": "code",
   "execution_count": 16,
   "metadata": {},
   "outputs": [
    {
     "name": "stdout",
     "output_type": "stream",
     "text": [
      "Hello my name is Dedo\n"
     ]
    }
   ],
   "source": [
    "p2 = Person('Dedo', 64)\n",
    "p2.myfunc()"
   ]
  },
  {
   "cell_type": "markdown",
   "metadata": {},
   "source": [
    "### A declaração de aprovação\n",
    "\n",
    "As definições class não podem ficar vazias, mas se por algum motivo você tiver uma classdefinição sem conteúdo, coloque-a na instrução pass para evitar erro."
   ]
  },
  {
   "cell_type": "code",
   "execution_count": 17,
   "metadata": {},
   "outputs": [],
   "source": [
    "class Person:\n",
    "  pass"
   ]
  }
 ],
 "metadata": {
  "kernelspec": {
   "display_name": "Python 3",
   "language": "python",
   "name": "python3"
  },
  "language_info": {
   "codemirror_mode": {
    "name": "ipython",
    "version": 3
   },
   "file_extension": ".py",
   "mimetype": "text/x-python",
   "name": "python",
   "nbconvert_exporter": "python",
   "pygments_lexer": "ipython3",
   "version": "3.11.6"
  }
 },
 "nbformat": 4,
 "nbformat_minor": 2
}
